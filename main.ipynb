{
  "cells": [
    {
      "cell_type": "markdown",
      "metadata": {},
      "source": [
        "# No-Transaction Band Network"
      ]
    },
    {
      "cell_type": "code",
      "metadata": {},
      "source": [
        "import typing\n",
        "\n",
        "import matplotlib\n",
        "import matplotlib.pyplot as plt\n",
        "import numpy as np\n",
        "import seaborn\n",
        "import torch\n",
        "import torch.nn.functional as fn\n",
        "from torch.optim import Adam\n",
        "from tqdm import tqdm\n",
        "\n",
        "from utils import MultiLayerPerceptron\n",
        "from utils import clamp\n",
        "from utils import entropic_loss\n",
        "from utils import european_option_delta\n",
        "from utils import generate_geometric_brownian_motion\n",
        "from utils import to_premium"
      ],
      "outputs": [],
      "execution_count": null
    },
    {
      "cell_type": "code",
      "metadata": {},
      "source": [
        "seaborn.set_style(\"whitegrid\")\n",
        "\n",
        "FONTSIZE = 18\n",
        "matplotlib.rcParams[\"figure.figsize\"] = (10, 5)\n",
        "matplotlib.rcParams[\"figure.dpi\"] = 300\n",
        "matplotlib.rcParams[\"figure.titlesize\"] = FONTSIZE\n",
        "matplotlib.rcParams[\"font.family\"] = \"sans-serif\"\n",
        "matplotlib.rcParams[\"legend.fontsize\"] = FONTSIZE\n",
        "matplotlib.rcParams[\"xtick.labelsize\"] = FONTSIZE\n",
        "matplotlib.rcParams[\"ytick.labelsize\"] = FONTSIZE\n",
        "matplotlib.rcParams[\"axes.labelsize\"] = FONTSIZE\n",
        "matplotlib.rcParams[\"axes.titlesize\"] = FONTSIZE\n",
        "matplotlib.rcParams[\"savefig.bbox\"] = \"tight\"\n",
        "matplotlib.rcParams[\"savefig.pad_inches\"] = 0.1\n",
        "matplotlib.rcParams[\"lines.linewidth\"] = 2\n",
        "matplotlib.rcParams[\"axes.linewidth\"] = 1.6"
      ],
      "outputs": [],
      "execution_count": null
    },
    {
      "cell_type": "code",
      "metadata": {},
      "source": [
        "DEVICE = torch.device(\"cuda:0\" if torch.cuda.is_available() else \"cpu\")"
      ],
      "outputs": [],
      "execution_count": null
    },
    {
      "cell_type": "code",
      "metadata": {},
      "source": [
        "DEVICE"
      ],
      "outputs": [],
      "execution_count": null
    },
    {
      "cell_type": "code",
      "metadata": {},
      "source": [
        "# In each epoch, N_PATHS brownian motion time-series are generated.\n",
        "N_PATHS = 50000\n",
        "# How many times a model is updated in the experiment.\n",
        "N_EPOCHS = 200"
      ],
      "outputs": [],
      "execution_count": null
    },
    {
      "cell_type": "code",
      "metadata": {},
      "source": [
        "def to_numpy(tensor: torch.Tensor) -> np.array:\n",
        "    return tensor.cpu().detach().numpy()"
      ],
      "outputs": [],
      "execution_count": null
    },
    {
      "cell_type": "markdown",
      "metadata": {},
      "source": [
        "## Prepare derivatives\n",
        "\n",
        "We consider a European option and a lookback option."
      ]
    },
    {
      "cell_type": "code",
      "metadata": {},
      "source": [
        "def european_option_payoff(prices: torch.Tensor, strike=1.0) -> torch.Tensor:\n",
        "    \"\"\"\n",
        "    Return the payoff of a European option.\n",
        "\n",
        "    Parameters\n",
        "    ----------\n",
        "    prices : torch.Tensor, shape (n_steps, n_paths)\n",
        "        Prices of the underlying asset.\n",
        "\n",
        "    Returns\n",
        "    -------\n",
        "    payoff : torch.Tensor, shape (n_paths, )\n",
        "    \"\"\"\n",
        "    return fn.relu(prices[-1, :] - strike)"
      ],
      "outputs": [],
      "execution_count": null
    },
    {
      "cell_type": "code",
      "metadata": {},
      "source": [
        "def lookback_option_payoff(prices: torch.Tensor, strike=1.03) -> torch.Tensor:\n",
        "    \"\"\"\n",
        "    Return the payoff of a lookback option.\n",
        "\n",
        "    Parameters\n",
        "    ----------\n",
        "    prices : torch.Tensor, shape (n_steps, n_paths)\n",
        "        Prices of the underlying asset.\n",
        "\n",
        "    Returns\n",
        "    -------\n",
        "    payoff : torch.Tensor, shape (n_paths, )\n",
        "    \"\"\"\n",
        "    return fn.relu(torch.max(prices, dim=0).values - strike)"
      ],
      "outputs": [],
      "execution_count": null
    },
    {
      "cell_type": "markdown",
      "metadata": {},
      "source": [
        "## European Option"
      ]
    },
    {
      "cell_type": "markdown",
      "metadata": {},
      "source": [
        "### Compute profit and loss after hedging\n",
        "\n",
        "A dealer sells a derivative to its customer and obliges a liability to settle the payoff at maturity.\n",
        "\n",
        "The dealer may hedge the risk of this liability by trading an underlying asset of the derivative based on `hedging_model`.\n",
        "\n",
        "The resulting profit and loss is obtained by adding up the payoff to the customer, capital gains from the underlying asset, and the transaction cost."
      ]
    },
    {
      "cell_type": "code",
      "metadata": {},
      "source": [
        "def compute_profit_and_loss(\n",
        "    hedging_model: torch.nn.Module,\n",
        "    payoff: typing.Callable[[torch.Tensor], torch.Tensor],\n",
        "    cost: float,\n",
        "    n_paths=N_PATHS,\n",
        "    maturity=30 / 365,\n",
        "    dt=1 / 365,\n",
        "    volatility=0.2,\n",
        ") -> torch.Tensor:\n",
        "    \"\"\"\n",
        "    Return profit-loss distribution after hedging.\n",
        "\n",
        "    Parameters\n",
        "    ----------\n",
        "    - hedging_model : torch.nn.Module\n",
        "        Hedging model to fit.\n",
        "    - payoff : callable[[torch.Tensor], torch.Tensor]\n",
        "        Payoff function of the derivative to hedege.\n",
        "    - cost : float\n",
        "        Transaction cost of underlying asset.\n",
        "\n",
        "    Returns\n",
        "    -------\n",
        "    profit_and_loss : torch.Tensor, shape (n_paths,)\n",
        "    \"\"\"\n",
        "    # prices: (time, batch)\n",
        "    prices = generate_geometric_brownian_motion(\n",
        "        n_paths, maturity=maturity, dt=dt, volatility=volatility, device=DEVICE\n",
        "    )\n",
        "    prev = torch.zeros_like(prices[0])\n",
        "\n",
        "    pnl = -payoff(prices)\n",
        "\n",
        "    for n in range(prices.shape[0] - 1):\n",
        "        x_log_moneyness = prices[n, :, None].log()\n",
        "        x_time_expiry = torch.full_like(x_log_moneyness, maturity - n * dt)\n",
        "        x_volatility = torch.full_like(x_log_moneyness, volatility)\n",
        "        x = torch.cat([x_log_moneyness, x_time_expiry, x_volatility], 1)\n",
        "\n",
        "        hedge = hedging_model(x, prev)\n",
        "\n",
        "        pnl += hedge * (prices[n + 1] - prices[n])\n",
        "        pnl -= cost * torch.abs(hedge - prev) * prices[n]\n",
        "\n",
        "        prev = hedge\n",
        "\n",
        "    return pnl"
      ],
      "outputs": [],
      "execution_count": null
    },
    {
      "cell_type": "markdown",
      "metadata": {},
      "source": [
        "### Create hedging models\n",
        "\n",
        "Now let us create `hedging_model` as `torch.nn.Module`.\n",
        "\n",
        "We employ two models here:\n",
        "* **No-Transaction Band Network**:\n",
        "    - A multi-layer perceptron outputs a no-transaction band and the next hedge ratio is obtained by clamping the current hedge ratio into this band.\n",
        "    - Two outputs of the multi-layer perceptron are applied with [`LeakyReLU`](https://pytorch.org/docs/stable/generated/torch.nn.LeakyReLU.html#torch.nn.LeakyReLU) and then added and subtracted to the Black\u2013Scholes\u2019 delta to get the upper- and lower-bound of the no-transaction band, respectively.\n",
        "* **Feed-forward network**:\n",
        "    - A multi-layer perception uses the current hedge ratio as an input to compute the next hedge ratio.\n",
        "    - The output of a multi-layer perceptron is applied with [`tanh`](https://pytorch.org/docs/stable/generated/torch.nn.Tanh.html#torch.nn.Tanh) function and then added to Black\u2013Scholes\u2019 delta to get the next hedge ratio."
      ]
    },
    {
      "cell_type": "code",
      "metadata": {},
      "source": [
        "class NoTransactionBandNet(torch.nn.Module):\n",
        "    \"\"\"\n",
        "    No-transaction band network.\n",
        "\n",
        "    Parameters\n",
        "    ----------\n",
        "    - in_features : int, default 3\n",
        "        Number of input features.\n",
        "\n",
        "    Examples\n",
        "    --------\n",
        "    >>> _ = torch.manual_seed(42)\n",
        "    >>> m = NoTransactionBandNet()\n",
        "    >>> x = torch.tensor([\n",
        "    ...     [-0.01, 0.1, 0.2],\n",
        "    ...     [ 0.00, 0.1, 0.2],\n",
        "    ...     [ 0.01, 0.1, 0.2]])\n",
        "    >>> prev = torch.full_like(x[:, 0], 0.5)\n",
        "    >>> m(x, prev)\n",
        "    tensor([..., ..., ...], grad_fn=<SWhereBackward>)\n",
        "    \"\"\"\n",
        "\n",
        "    def __init__(self, in_features=3):\n",
        "        super().__init__()\n",
        "        self.mlp = MultiLayerPerceptron(in_features, 2)\n",
        "\n",
        "    def forward(self, x, prev):\n",
        "        no_cost_delta = european_option_delta(x[:, 0], x[:, 1], x[:, 2])\n",
        "        band_width = self.mlp(x)\n",
        "\n",
        "        lower = no_cost_delta - fn.leaky_relu(band_width[:, 0])\n",
        "        upper = no_cost_delta + fn.leaky_relu(band_width[:, 1])\n",
        "\n",
        "        return clamp(prev, lower, upper)"
      ],
      "outputs": [],
      "execution_count": null
    },
    {
      "cell_type": "code",
      "metadata": {},
      "source": [
        "class FeedForwardNet(torch.nn.Module):\n",
        "    \"\"\"\n",
        "    Feed-forward network with Black-Scholes delta.\n",
        "\n",
        "    Parameters\n",
        "    ----------\n",
        "    - in_features : int, default 3\n",
        "        Number of input features.\n",
        "\n",
        "    Examples\n",
        "    --------\n",
        "    >>> _ = torch.manual_seed(42)\n",
        "    >>> m = FeedForwardNet(3)\n",
        "    >>> x = torch.tensor([\n",
        "    ...     [-0.01, 0.1, 0.2],\n",
        "    ...     [ 0.00, 0.1, 0.2],\n",
        "    ...     [ 0.01, 0.1, 0.2]])\n",
        "    >>> prev = torch.full_like(x[:, 0], 0.5)\n",
        "    >>> m(x, prev)\n",
        "    tensor([..., ..., ...], grad_fn=<AddBackward0>)\n",
        "    \"\"\"\n",
        "\n",
        "    def __init__(self, in_features=3):\n",
        "        super().__init__()\n",
        "        self.mlp = MultiLayerPerceptron(in_features + 1, 1)\n",
        "\n",
        "    def forward(self, x, prev):\n",
        "        no_cost_delta = european_option_delta(x[:, 0], x[:, 1], x[:, 2])\n",
        "\n",
        "        x = torch.cat((x, prev.reshape(-1, 1)), 1)\n",
        "        x = self.mlp(x).reshape(-1)\n",
        "        x = torch.tanh(x)\n",
        "\n",
        "        return no_cost_delta + x"
      ],
      "outputs": [],
      "execution_count": null
    },
    {
      "cell_type": "code",
      "metadata": {},
      "source": [
        "torch.manual_seed(42)\n",
        "model_ntb = NoTransactionBandNet().to(DEVICE)\n",
        "torch.manual_seed(42)\n",
        "model_ffn = FeedForwardNet().to(DEVICE)"
      ],
      "outputs": [],
      "execution_count": null
    },
    {
      "cell_type": "code",
      "metadata": {},
      "source": [
        "torch.manual_seed(42)\n",
        "pnl_ntb = compute_profit_and_loss(model_ntb, european_option_payoff, cost=1e-3)\n",
        "torch.manual_seed(42)\n",
        "pnl_ffn = compute_profit_and_loss(model_ffn, european_option_payoff, cost=1e-3)"
      ],
      "outputs": [],
      "execution_count": null
    },
    {
      "cell_type": "code",
      "metadata": {},
      "source": [
        "plt.figure()\n",
        "plt.hist(\n",
        "    to_numpy(pnl_ntb),\n",
        "    bins=100,\n",
        "    range=(-0.04, -0.01),\n",
        "    alpha=0.6,\n",
        "    label=\"No-transaction band Network\",\n",
        ")\n",
        "plt.hist(\n",
        "    to_numpy(pnl_ffn),\n",
        "    bins=100,\n",
        "    range=(-0.04, -0.01),\n",
        "    alpha=0.6,\n",
        "    label=\"Feed-forward Network\",\n",
        ")\n",
        "plt.title(\n",
        "    \"Profit-loss histogram of 50000 price paths \" \"for a European option (before fit)\"\n",
        ")\n",
        "plt.xlabel(\"Profit-loss\")\n",
        "plt.ylabel(\"Number of events\")\n",
        "plt.legend()\n",
        "plt.show()"
      ],
      "outputs": [],
      "execution_count": null
    },
    {
      "cell_type": "markdown",
      "metadata": {},
      "source": [
        "### Fit hedging models\n",
        "\n",
        "We train hedging models so that they minimize the `entropic_loss`, or equivalently, maximize the expected utility."
      ]
    },
    {
      "cell_type": "code",
      "metadata": {},
      "source": [
        "def fit(\n",
        "    hedging_model: torch.nn.Module,\n",
        "    payoff: typing.Callable[[torch.Tensor], torch.Tensor],\n",
        "    cost: float,\n",
        "    n_epochs=N_EPOCHS,\n",
        ") -> list:\n",
        "    \"\"\"\n",
        "    Fit a hedging model to hedge the given derivative.\n",
        "\n",
        "    Parameters\n",
        "    ----------\n",
        "    - hedging_model : torch.nn.Module\n",
        "        Hedging model to fit.\n",
        "    - payoff : callable[[torch.Tensor], torch.Tensor]\n",
        "        Payoff function of the derivative to hedege.\n",
        "    - cost : float, default 0.0\n",
        "        Transaction cost of the underlying asset.\n",
        "    - n_epochs : int, default N_EPOCHS\n",
        "        How many times a hedging model is updated in the experiment.\n",
        "\n",
        "    Returns\n",
        "    -------\n",
        "    history : list[float]\n",
        "        Training history.\n",
        "    \"\"\"\n",
        "    optim = Adam(hedging_model.parameters())\n",
        "\n",
        "    history = []\n",
        "    iterations = tqdm(range(n_epochs))\n",
        "\n",
        "    for _ in iterations:\n",
        "        optim.zero_grad()\n",
        "        pnl = compute_profit_and_loss(hedging_model, payoff, cost=cost)\n",
        "        loss = entropic_loss(pnl)\n",
        "        loss.backward()\n",
        "        optim.step()\n",
        "\n",
        "        iterations.desc = f\"loss={loss:.5f}\"\n",
        "        history.append(loss.item())\n",
        "\n",
        "    return history"
      ],
      "outputs": [],
      "execution_count": null
    },
    {
      "cell_type": "code",
      "metadata": {},
      "source": [
        "torch.manual_seed(42)\n",
        "history_ntb = fit(model_ntb, european_option_payoff, cost=1e-3)\n",
        "torch.manual_seed(42)\n",
        "history_ffn = fit(model_ffn, european_option_payoff, cost=1e-3)"
      ],
      "outputs": [],
      "execution_count": null
    },
    {
      "cell_type": "markdown",
      "metadata": {},
      "source": [
        "The learning histories below show that the no-transaction band network can be trained much quicker than the ordinary feed-forward network."
      ]
    },
    {
      "cell_type": "code",
      "metadata": {},
      "source": [
        "plt.figure()\n",
        "plt.plot(history_ntb, label=\"No-transaction band Network\")\n",
        "plt.plot(history_ffn, label=\"Feed-forward Network\")\n",
        "plt.xlabel(\"Number of epochs\")\n",
        "plt.ylabel(\"Loss (Negative of expected utility)\")\n",
        "plt.title(\"Learning history for a European option\")\n",
        "plt.legend()\n",
        "plt.show()"
      ],
      "outputs": [],
      "execution_count": null
    },
    {
      "cell_type": "markdown",
      "metadata": {},
      "source": [
        "### Compute the profit-loss distributions after hedging\n",
        "\n",
        "The histograms of the profit and loss after hedging look like this."
      ]
    },
    {
      "cell_type": "code",
      "metadata": {},
      "source": [
        "torch.manual_seed(42)\n",
        "pnl_ntb = compute_profit_and_loss(model_ntb, european_option_payoff, cost=1e-3)\n",
        "torch.manual_seed(42)\n",
        "pnl_ffn = compute_profit_and_loss(model_ffn, european_option_payoff, cost=1e-3)"
      ],
      "outputs": [],
      "execution_count": null
    },
    {
      "cell_type": "code",
      "metadata": {},
      "source": [
        "plt.figure()\n",
        "plt.hist(\n",
        "    to_numpy(pnl_ntb),\n",
        "    bins=100,\n",
        "    range=(-0.12, 0.01),\n",
        "    alpha=0.6,\n",
        "    label=\"No-transaction band Network\",\n",
        ")\n",
        "plt.hist(\n",
        "    to_numpy(pnl_ffn),\n",
        "    bins=100,\n",
        "    range=(-0.12, 0.01),\n",
        "    alpha=0.6,\n",
        "    label=\"Feed-forward Network\",\n",
        ")\n",
        "plt.title(\n",
        "    \"Profit-loss histogram of 50000 price paths \" \"for a European option (after fit)\"\n",
        ")\n",
        "plt.xlabel(\"Profit-loss\")\n",
        "plt.ylabel(\"Number of events\")\n",
        "plt.legend()\n",
        "plt.show()"
      ],
      "outputs": [],
      "execution_count": null
    },
    {
      "cell_type": "markdown",
      "metadata": {},
      "source": [
        "### Evaluate premium of the derivative\n",
        "\n",
        "Now, we are ready to define the premium of the derivative.\n",
        "\n",
        "Premium of a derivative is defined as the guaranteed amount of cash which is as preferable as the profit-loss after hedging in terms of the exponential utility."
      ]
    },
    {
      "cell_type": "code",
      "metadata": {},
      "source": [
        "def evaluate_premium(\n",
        "    hedging_model: torch.nn.Module,\n",
        "    payoff: typing.Callable[[torch.Tensor], torch.Tensor],\n",
        "    cost: float,\n",
        "    n_times=20,\n",
        ") -> float:\n",
        "    \"\"\"\n",
        "    Evaluate the premium of the given derivative.\n",
        "\n",
        "    Parameters\n",
        "    ----------\n",
        "    - hedging_model : torch.nn.Module\n",
        "        Hedging model to fit.\n",
        "    - payoff : callable[[torch.Tensor], torch.Tensor]\n",
        "        Payoff function of the derivative to hedege.\n",
        "    - cost : float, default 0.0\n",
        "        Transaction cost of underlying asset.\n",
        "    - n_times : int, default 20\n",
        "        If `n_times > 1`, return ensemble mean of the results\n",
        "        from multiple simulations.\n",
        "\n",
        "    Returns\n",
        "    -------\n",
        "    premium : float\n",
        "    \"\"\"\n",
        "    with torch.no_grad():\n",
        "        p = lambda: -to_premium(\n",
        "            compute_profit_and_loss(hedging_model, payoff, cost=cost)\n",
        "        ).item()\n",
        "        return float(np.mean([p() for _ in range(n_times)]))"
      ],
      "outputs": [],
      "execution_count": null
    },
    {
      "cell_type": "code",
      "metadata": {},
      "source": [
        "torch.manual_seed(42)\n",
        "premium_ntb = evaluate_premium(model_ntb, european_option_payoff, cost=1e-3)\n",
        "torch.manual_seed(42)\n",
        "premium_ffn = evaluate_premium(model_ffn, european_option_payoff, cost=1e-3)"
      ],
      "outputs": [],
      "execution_count": null
    },
    {
      "cell_type": "code",
      "metadata": {},
      "source": [
        "print(\"Premium evaluated by no-transaction band network :\\t\", premium_ntb)\n",
        "print(\"Premium evaluated by feed-forward band network   :\\t\", premium_ffn)"
      ],
      "outputs": [],
      "execution_count": null
    },
    {
      "cell_type": "code",
      "metadata": {},
      "source": [
        "premium_reduced = (premium_ffn - premium_ntb) / premium_ffn * 100\n",
        "print(\"Reduced premium :\\t\", f\"{premium_reduced:.4f} %\")"
      ],
      "outputs": [],
      "execution_count": null
    },
    {
      "cell_type": "markdown",
      "metadata": {},
      "source": [
        "## Lookback Option"
      ]
    },
    {
      "cell_type": "code",
      "metadata": {},
      "source": [
        "torch.manual_seed(42)\n",
        "model_ntb = NoTransactionBandNet().to(DEVICE)\n",
        "torch.manual_seed(42)\n",
        "model_ffn = FeedForwardNet().to(DEVICE)"
      ],
      "outputs": [],
      "execution_count": null
    },
    {
      "cell_type": "markdown",
      "metadata": {},
      "source": [
        "### Fit hedging models"
      ]
    },
    {
      "cell_type": "code",
      "metadata": {},
      "source": [
        "torch.manual_seed(42)\n",
        "history_ntb = fit(model_ntb, lookback_option_payoff, cost=1e-3)\n",
        "torch.manual_seed(42)\n",
        "history_ffn = fit(model_ffn, lookback_option_payoff, cost=1e-3)"
      ],
      "outputs": [],
      "execution_count": null
    },
    {
      "cell_type": "code",
      "metadata": {},
      "source": [
        "plt.figure()\n",
        "plt.plot(history_ntb, label=\"No-transaction band Network\")\n",
        "plt.plot(history_ffn, label=\"Feed-forward Network\")\n",
        "plt.xlabel(\"Number of epochs\")\n",
        "plt.ylabel(\"Loss (Negative of expected utility)\")\n",
        "plt.title(\"Learning history for a lookback option\")\n",
        "plt.legend()\n",
        "plt.show()"
      ],
      "outputs": [],
      "execution_count": null
    },
    {
      "cell_type": "markdown",
      "metadata": {},
      "source": [
        "### Compute the profit-loss distributions after hedging"
      ]
    },
    {
      "cell_type": "code",
      "metadata": {},
      "source": [
        "torch.manual_seed(42)\n",
        "premium_ntb = evaluate_premium(model_ntb, lookback_option_payoff, cost=1e-3)\n",
        "torch.manual_seed(42)\n",
        "premium_ffn = evaluate_premium(model_ffn, lookback_option_payoff, cost=1e-3)"
      ],
      "outputs": [],
      "execution_count": null
    },
    {
      "cell_type": "markdown",
      "metadata": {},
      "source": [
        "### Evaluate premium of the derivative"
      ]
    },
    {
      "cell_type": "code",
      "metadata": {},
      "source": [
        "print(\"Premium evaluated by no-transaction band network :\\t\", premium_ntb)\n",
        "print(\"Premium evaluated by feed-forward band network   :\\t\", premium_ffn)"
      ],
      "outputs": [],
      "execution_count": null
    },
    {
      "cell_type": "code",
      "metadata": {},
      "source": [
        "premium_reduced = (premium_ffn - premium_ntb) / premium_ffn * 100\n",
        "print(\"Reduced premium :\\t\", f\"{premium_reduced:.4f} %\")"
      ],
      "outputs": [],
      "execution_count": null
    },
    {
      "cell_type": "code",
      "metadata": {},
      "source": [],
      "outputs": [],
      "execution_count": null
    }
  ],
  "metadata": {
    "anaconda-cloud": {},
    "kernelspec": {
      "display_name": "Python 3",
      "language": "python",
      "name": "python3"
    },
    "language_info": {
      "codemirror_mode": {
        "name": "ipython",
        "version": 3
      },
      "file_extension": ".py",
      "mimetype": "text/x-python",
      "name": "python",
      "nbconvert_exporter": "python",
      "pygments_lexer": "ipython3",
      "version": "3.6.1"
    }
  },
  "nbformat": 4,
  "nbformat_minor": 4
}